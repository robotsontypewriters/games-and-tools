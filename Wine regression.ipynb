{
 "cells": [
  {
   "cell_type": "code",
   "execution_count": 159,
   "metadata": {
    "scrolled": true
   },
   "outputs": [],
   "source": [
    "import pandas as pd \n",
    "import numpy as np\n",
    "\n",
    "wine = pd.read_csv(\"winemag-data_first150k.csv\")\n",
    "wine = wine.dropna()\n"
   ]
  },
  {
   "cell_type": "code",
   "execution_count": 160,
   "metadata": {},
   "outputs": [
    {
     "name": "stdout",
     "output_type": "stream",
     "text": [
      "(10000, 19)\n"
     ]
    }
   ],
   "source": [
    "import category_encoders as ce\n",
    "\n",
    "#Encode team categorical as binary, append these columns to the end of the array\n",
    "bins = ce.BinaryEncoder(cols={\"country\",\"variety\"},return_df=False)\n",
    "bincon = bins.fit_transform(wine)\n",
    "# print(bincon[0])\n",
    "\n",
    "inps=bincon[:,0:18]\n",
    "inps2=bincon[:,-2]\n",
    "inps = inps[0:10000,:]\n",
    "inps2 = inps2 [0:10000]\n",
    "\n",
    "inps2.reshape([1,10000])\n",
    "inps.shape\n",
    "inps2.ravel\n",
    "# print(inps2)\n",
    "# print(inps[0])\n",
    "# inputs = np.append(inps,inps2,axis=1)\n",
    "# print(inputs[0])\n",
    "# bins= pd.DataFrame(bins)\n",
    "# # rating = apple[\"user_rating\"]\n",
    "# print(bins)\n",
    "pandainp = pd.DataFrame(data=inps)\n",
    "pandainp2 = pd.DataFrame(data=inps2)\n",
    "# print(pandainp2)\n",
    "pandainp[18] = pandainp2\n",
    "inputs = pandainp.values\n",
    "out=bincon[0:10000,-1].astype(float)\n",
    "pandout = pd.DataFrame(data=out)\n",
    "print(inputs.shape)\n",
    "inputs = inputs.astype(float)"
   ]
  },
  {
   "cell_type": "code",
   "execution_count": 169,
   "metadata": {},
   "outputs": [],
   "source": [
    "from keras.models import Sequential\n",
    "from keras.layers import Dense, Activation, Dropout\n",
    "from keras.constraints import maxnorm\n",
    "from keras.optimizers import RMSprop, Adam\n",
    "\n",
    "model = Sequential()\n",
    "model.add(Dense(19, input_shape=(19,)))\n",
    "# model.add(Dense(8))\n",
    "model.add(Dense(1))\n",
    "\n",
    "adam = Adam(lr = 0.04) \n",
    "# rms = RMSprop()\n",
    "\n",
    "model.compile(optimizer=adam, loss='mae')\n"
   ]
  },
  {
   "cell_type": "code",
   "execution_count": 170,
   "metadata": {},
   "outputs": [
    {
     "name": "stdout",
     "output_type": "stream",
     "text": [
      "Epoch 1/10\n",
      "10000/10000 [==============================] - 1s 85us/step - loss: 17.1846\n",
      "Epoch 2/10\n",
      "10000/10000 [==============================] - 0s 45us/step - loss: 16.4697\n",
      "Epoch 3/10\n",
      "10000/10000 [==============================] - 0s 45us/step - loss: 16.5750\n",
      "Epoch 4/10\n",
      "10000/10000 [==============================] - 0s 45us/step - loss: 16.3440\n",
      "Epoch 5/10\n",
      "10000/10000 [==============================] - 0s 44us/step - loss: 16.2498\n",
      "Epoch 6/10\n",
      "10000/10000 [==============================] - 0s 44us/step - loss: 16.4661\n",
      "Epoch 7/10\n",
      "10000/10000 [==============================] - 0s 44us/step - loss: 16.2626\n",
      "Epoch 8/10\n",
      "10000/10000 [==============================] - 0s 44us/step - loss: 16.2233\n",
      "Epoch 9/10\n",
      "10000/10000 [==============================] - 0s 44us/step - loss: 16.2225\n",
      "Epoch 10/10\n",
      "10000/10000 [==============================] - 0s 45us/step - loss: 16.1962 0s -\n"
     ]
    },
    {
     "data": {
      "text/plain": [
       "<keras.callbacks.History at 0x204051e7d68>"
      ]
     },
     "execution_count": 170,
     "metadata": {},
     "output_type": "execute_result"
    }
   ],
   "source": [
    "model.fit(x=inputs, y=out, epochs=10,batch_size=50, verbose=1)"
   ]
  },
  {
   "cell_type": "code",
   "execution_count": 172,
   "metadata": {},
   "outputs": [],
   "source": [
    "pred = model.predict(inputs)\n",
    "# test = pd.DataFrame(bincon[0:10000])\n",
    "\n",
    "# # def myround(x, prec=2, base=.5):\n",
    "# #     return round(base * round(float(x)/base),prec)\n",
    "\n",
    "# for x in pred:\n",
    "# # #     x = myround(x)\n",
    "\n",
    "#     test[\"pred\"] = x \n"
   ]
  },
  {
   "cell_type": "code",
   "execution_count": 189,
   "metadata": {},
   "outputs": [
    {
     "name": "stdout",
     "output_type": "stream",
     "text": [
      "country                                                    Chile\n",
      "description    Murky, earthy aromas are suggestive of animal ...\n",
      "points                                                        85\n",
      "price                                                         13\n",
      "variety                                                Carmenère\n",
      "Name: 7909, dtype: object\n",
      "Murky, earthy aromas are suggestive of animal hide. Rubbery and bouncy in feel, this tastes like generic Carmenère, meaning blackberry, coffee grinds and herbal berry flavors dominate.\n",
      "Regression 13.62\n",
      "Random 275.5\n"
     ]
    }
   ],
   "source": [
    "import random\n",
    "\n",
    "\n",
    "r = random.randint(0,len(test))\n",
    "print(wine.iloc[r]) \n",
    "print(wine.iloc[r][\"description\"])\n",
    "print(\"Regression %.2f\" %pred[r])\n",
    "print(\"Random %.1f\" %(random.randint(0,1000)*0.5))"
   ]
  }
 ],
 "metadata": {
  "kernelspec": {
   "display_name": "Python 3",
   "language": "python",
   "name": "python3"
  },
  "language_info": {
   "codemirror_mode": {
    "name": "ipython",
    "version": 3
   },
   "file_extension": ".py",
   "mimetype": "text/x-python",
   "name": "python",
   "nbconvert_exporter": "python",
   "pygments_lexer": "ipython3",
   "version": "3.6.7"
  }
 },
 "nbformat": 4,
 "nbformat_minor": 2
}
