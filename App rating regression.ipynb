{
 "cells": [
  {
   "cell_type": "code",
   "execution_count": 101,
   "metadata": {
    "scrolled": true
   },
   "outputs": [],
   "source": [
    "import pandas as pd \n",
    "import numpy as np\n",
    "\n",
    "apple = pd.read_csv(\"AppleStore.csv\")\n",
    "apple = apple[apple[\"rating_count_tot\"]>0]"
   ]
  },
  {
   "cell_type": "code",
   "execution_count": 102,
   "metadata": {},
   "outputs": [],
   "source": [
    "import category_encoders as ce\n",
    "\n",
    "#Encode team categorical as binary, append these columns to the end of the array\n",
    "bins = ce.BinaryEncoder(cols={\"prime_genre\"},return_df=False).fit_transform(apple)[:,:4]\n",
    "bins= pd.DataFrame(bins)\n",
    "rating = apple[\"user_rating\"]"
   ]
  },
  {
   "cell_type": "code",
   "execution_count": 103,
   "metadata": {},
   "outputs": [],
   "source": [
    "inp = apple.iloc[:,1:3]\n",
    "inp[\"0\"] = bins.iloc[:,0]\n",
    "inp[\"1\"] = bins.iloc[:,1]\n",
    "inp[\"2\"] = bins.iloc[:,2]\n",
    "inp[\"3\"] = bins.iloc[:,3]\n"
   ]
  },
  {
   "cell_type": "code",
   "execution_count": 157,
   "metadata": {},
   "outputs": [],
   "source": [
    "from keras.models import Sequential\n",
    "from keras.layers import Dense, Activation, Dropout\n",
    "from keras.constraints import maxnorm\n",
    "from keras.optimizers import RMSprop, Adam\n",
    "\n",
    "model = Sequential()\n",
    "model.add(Dense(6,activation=\"relu\", input_shape=(6,)))\n",
    "model.add(Dense(3))\n",
    "model.add(Dense(1))\n",
    "\n",
    "adam = Adam(lr = 0.019) \n",
    "\n",
    "model.compile(optimizer=adam, loss='mse')\n"
   ]
  },
  {
   "cell_type": "code",
   "execution_count": 158,
   "metadata": {},
   "outputs": [
    {
     "data": {
      "text/plain": [
       "<keras.callbacks.History at 0x20a7b778860>"
      ]
     },
     "execution_count": 158,
     "metadata": {},
     "output_type": "execute_result"
    }
   ],
   "source": [
    "model.fit(x=inp[:-1000], y=rating[:-1000], epochs=3,batch_size=5, verbose=0)"
   ]
  },
  {
   "cell_type": "code",
   "execution_count": 159,
   "metadata": {},
   "outputs": [],
   "source": [
    "pred = model.predict(inp[-1000:])\n",
    "test = pd.DataFrame(apple[-1000:])\n",
    "\n",
    "def myround(x, prec=2, base=.5):\n",
    "    return round(base * round(float(x)/base),prec)\n",
    "\n",
    "for x in pred:\n",
    "    x = myround(x)\n",
    "\n",
    "test[\"pred\"] = x "
   ]
  },
  {
   "cell_type": "code",
   "execution_count": 172,
   "metadata": {},
   "outputs": [
    {
     "name": "stdout",
     "output_type": "stream",
     "text": [
      "track_name          Can You Dab?\n",
      "price                          0\n",
      "rating_count_tot            2601\n",
      "user_rating                    4\n",
      "prime_genre                Games\n",
      "pred                           3\n",
      "Name: 6176, dtype: object\n",
      "Random 3.0\n"
     ]
    }
   ],
   "source": [
    "import random\n",
    "\n",
    "\n",
    "r = random.randint(0,len(test))\n",
    "print(test.iloc[r]) \n",
    "print(\"Random %.1f\" %(random.randint(0,10)*0.5))"
   ]
  }
 ],
 "metadata": {
  "kernelspec": {
   "display_name": "Python 3",
   "language": "python",
   "name": "python3"
  },
  "language_info": {
   "codemirror_mode": {
    "name": "ipython",
    "version": 3
   },
   "file_extension": ".py",
   "mimetype": "text/x-python",
   "name": "python",
   "nbconvert_exporter": "python",
   "pygments_lexer": "ipython3",
   "version": "3.6.7"
  }
 },
 "nbformat": 4,
 "nbformat_minor": 2
}
